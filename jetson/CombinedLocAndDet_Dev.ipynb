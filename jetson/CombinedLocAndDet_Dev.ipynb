{
 "cells": [
  {
   "cell_type": "markdown",
   "metadata": {
    "collapsed": false
   },
   "source": [
    "In this file we will be combining the chess figure detection and the chessboard detection.\n",
    "We will take the output of the machine learning model and use it to calculate the position on the chessboard."
   ]
  },
  {
   "cell_type": "code",
   "execution_count": 4,
   "metadata": {
    "pycharm": {
     "name": "#%%\n"
    }
   },
   "outputs": [
    {
     "name": "stderr",
     "output_type": "stream",
     "text": [
      "Using cache found in /Users/seebasti/.cache/torch/hub/ultralytics_yolov5_master\n",
      "YOLOv5 🚀 2022-2-13 torch 1.10.1 CPU\n",
      "\n",
      "Fusing layers... \n",
      "Model Summary: 280 layers, 3108508 parameters, 0 gradients, 4.3 GFLOPs\n",
      "Adding AutoShape... \n",
      "/Users/seebasti/Projects/ChessCamera/venv/lib/python3.8/site-packages/torch/autocast_mode.py:141: UserWarning: User provided device_type of 'cuda', but CUDA is not available. Disabling\n",
      "  warnings.warn('User provided device_type of \\'cuda\\', but CUDA is not available. Disabling')\n"
     ]
    },
    {
     "name": "stdout",
     "output_type": "stream",
     "text": [
      "|-||-||-||-||-||-||-||-|\n",
      "|-||-||-||-||-||-||-||-|\n",
      "|-||-||-||-||-||-||-||-|\n",
      "|-||-||-||-||-||-||-||-|\n",
      "|-||-||-||-||-||-||-||-|\n",
      "black-queen|-||-||-||-||-||-|white-queen\n",
      "|-||-||-||-||-||-||-||-|\n",
      "|-||-||-||-||-||-||-||-|\n"
     ]
    }
   ],
   "source": [
    "import glob,torch\n",
    "\n",
    "from chessLocalisation import *\n",
    "from figureAssignment import *\n",
    "from chessboard import *\n",
    "\n",
    "#Model\n",
    "model = torch.hub.load('ultralytics/yolov5', 'custom', path='weights/best.pt')  # local model\n",
    "model.conf = 0.25\n",
    "\n",
    "\n",
    "#chess_images = glob.glob('../datasets/Chess-Pieces_big/test/images/6f0de9b594de9f9b92c6a20daa51a28a_jpg.rf.6f790b7e8c79f719212600aa62581cc3.jpg')\n",
    "chess_images = glob.glob('../datasets/Chess-Pieces_big/test/images/IMG_9775_JPG.rf.6e72a71d7215e314699db8d730a6e327.jpg')\n",
    "# Select any index to grab an image from the list\n",
    "for img in chess_images:\n",
    "\n",
    "    chessboard =  setup(img) #returns the chessboard tiles\n",
    "    if chessboard is not None:\n",
    "        # Inference\n",
    "        interference = model(img, size=416)\n",
    "\n",
    "        # Map model output to chessboard\n",
    "        chessboard = assignFigures(interference, chessboard)\n",
    "\n",
    "        #chessboard.tiles = np.rot90(chessboard.tiles, k=1, axes=(1, 0)) # axes=(1,0) ==> 90 deg clockwise; axes(0,1) ==> 90 deg counterclockwise\n",
    "        # Draw matrix graphically\n",
    "        drawBoard(chessboard)"
   ]
  },
  {
   "cell_type": "code",
   "execution_count": null,
   "outputs": [],
   "source": [],
   "metadata": {
    "collapsed": false,
    "pycharm": {
     "name": "#%%\n"
    }
   }
  }
 ],
 "metadata": {
  "kernelspec": {
   "display_name": "Python 3",
   "language": "python",
   "name": "python3"
  },
  "language_info": {
   "codemirror_mode": {
    "name": "ipython",
    "version": 2
   },
   "file_extension": ".py",
   "mimetype": "text/x-python",
   "name": "python",
   "nbconvert_exporter": "python",
   "pygments_lexer": "ipython2",
   "version": "2.7.6"
  }
 },
 "nbformat": 4,
 "nbformat_minor": 0
}