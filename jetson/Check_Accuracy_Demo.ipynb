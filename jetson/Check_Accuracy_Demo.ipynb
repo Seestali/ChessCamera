{
 "cells": [
  {
   "cell_type": "markdown",
   "metadata": {
    "collapsed": false
   },
   "source": [
    "In this file we will be combining the chess figure detection and the chessboard detection.\n",
    "We will take the output of the machine learning model and use it to calculate the position on the chessboard."
   ]
  },
  {
   "cell_type": "code",
   "execution_count": 3,
   "metadata": {
    "pycharm": {
     "name": "#%%\n"
    }
   },
   "outputs": [
    {
     "name": "stderr",
     "output_type": "stream",
     "text": [
      "Using cache found in /Users/seebasti/.cache/torch/hub/ultralytics_yolov5_master\n",
      "YOLOv5 🚀 2022-2-13 torch 1.10.1 CPU\n",
      "\n",
      "Fusing layers... \n",
      "Model Summary: 280 layers, 3108508 parameters, 0 gradients, 4.3 GFLOPs\n",
      "Adding AutoShape... \n",
      "/Users/seebasti/Projects/ChessCamera/venv/lib/python3.8/site-packages/torch/autocast_mode.py:141: UserWarning: User provided device_type of 'cuda', but CUDA is not available. Disabling\n",
      "  warnings.warn('User provided device_type of \\'cuda\\', but CUDA is not available. Disabling')\n",
      "/Users/seebasti/Projects/ChessCamera/venv/lib/python3.8/site-packages/torch/autocast_mode.py:141: UserWarning: User provided device_type of 'cuda', but CUDA is not available. Disabling\n",
      "  warnings.warn('User provided device_type of \\'cuda\\', but CUDA is not available. Disabling')\n"
     ]
    },
    {
     "name": "stdout",
     "output_type": "stream",
     "text": [
      "From 10 are 6 not correct\n",
      "From 12 are 7 not correct\n"
     ]
    },
    {
     "name": "stderr",
     "output_type": "stream",
     "text": [
      "/Users/seebasti/Projects/ChessCamera/venv/lib/python3.8/site-packages/torch/autocast_mode.py:141: UserWarning: User provided device_type of 'cuda', but CUDA is not available. Disabling\n",
      "  warnings.warn('User provided device_type of \\'cuda\\', but CUDA is not available. Disabling')\n",
      "/Users/seebasti/Projects/ChessCamera/venv/lib/python3.8/site-packages/torch/autocast_mode.py:141: UserWarning: User provided device_type of 'cuda', but CUDA is not available. Disabling\n",
      "  warnings.warn('User provided device_type of \\'cuda\\', but CUDA is not available. Disabling')\n"
     ]
    },
    {
     "name": "stdout",
     "output_type": "stream",
     "text": [
      "From 1 are 1 not correct\n",
      "From 8 are 4 not correct\n"
     ]
    },
    {
     "name": "stderr",
     "output_type": "stream",
     "text": [
      "/Users/seebasti/Projects/ChessCamera/venv/lib/python3.8/site-packages/torch/autocast_mode.py:141: UserWarning: User provided device_type of 'cuda', but CUDA is not available. Disabling\n",
      "  warnings.warn('User provided device_type of \\'cuda\\', but CUDA is not available. Disabling')\n",
      "/Users/seebasti/Projects/ChessCamera/venv/lib/python3.8/site-packages/torch/autocast_mode.py:141: UserWarning: User provided device_type of 'cuda', but CUDA is not available. Disabling\n",
      "  warnings.warn('User provided device_type of \\'cuda\\', but CUDA is not available. Disabling')\n"
     ]
    },
    {
     "name": "stdout",
     "output_type": "stream",
     "text": [
      "From 6 are 4 not correct\n",
      "From 2 are 1 not correct\n",
      "From 4 are 3 not correct\n"
     ]
    },
    {
     "name": "stderr",
     "output_type": "stream",
     "text": [
      "/Users/seebasti/Projects/ChessCamera/venv/lib/python3.8/site-packages/torch/autocast_mode.py:141: UserWarning: User provided device_type of 'cuda', but CUDA is not available. Disabling\n",
      "  warnings.warn('User provided device_type of \\'cuda\\', but CUDA is not available. Disabling')\n"
     ]
    }
   ],
   "source": [
    "import glob,torch\n",
    "import matplotlib.pyplot as plt\n",
    "from chessLocalisation import *\n",
    "from figureAssignment import *\n",
    "from chessboard import *\n",
    "from helpfulUtils import *\n",
    "\n",
    "#Model\n",
    "model = torch.hub.load('ultralytics/yolov5', 'custom', path='weights/best.pt')  # local model\n",
    "model.conf = 0.50\n",
    "\n",
    "setup_image = '../datasets/Chess-Pieces_check_Accuracy/board1_set1/setup.JPG'\n",
    "chess_images = glob.glob('../datasets/Chess-Pieces_check_Accuracy/board1_set1/IMG*.JPG')\n",
    "\n",
    "# read lines csv file and create a list of lines\n",
    "lines = readCSV('../datasets/Chess-Pieces_check_Accuracy/board1_set1/annotation.csv')\n",
    "# setup and creation of chessboard\n",
    "chessboard =  setup(setup_image) #returns the chessboard tiles\n",
    "numOfFigures = []\n",
    "numOfPreciseDifferences = []\n",
    "numOfDifferences = []\n",
    "if chessboard is not None:\n",
    "    # Grab all images in directory\n",
    "    for img in chess_images:\n",
    "\n",
    "        for line in lines:\n",
    "            if str(img.split('/')[-1]) == line[0]:\n",
    "                num_figures = int(line[1])\n",
    "                fen_positiv = line[2]\n",
    "                #print(img.split('/')[-1] + ' und ' + fen_positiv)\n",
    "\n",
    "        # load and resize image for model\n",
    "        img = cv2.resize(cv2.imread(img),(416,416))\n",
    "        # Inference\n",
    "        interference = model(img, size=416)\n",
    "        # Map model output to chessboard\n",
    "        chessboard = assignFigures(interference, chessboard)\n",
    "        chessboard.tiles = np.rot90(chessboard.tiles, k=1, axes=(0, 1)) # axes=(1,0) ==> 90 deg clockwise; axes(0,1) ==> 90 deg counterclockwise\n",
    "        # Draw matrix graphically\n",
    "        #draw(chessboard)\n",
    "        fen_board = board_to_fen(chessboard)\n",
    "        # Check correct classification rate\n",
    "        numOfFigures.append(num_figures)\n",
    "        numOfPreciseDifferences.append(compare_fen(fen_positiv, fen_board))\n",
    "        numOfDifferences.append(compare_fen(fen_positiv, fen_board, False))\n",
    "\n",
    "        # rotate back to original orientation\n",
    "        chessboard.tiles = np.rot90(chessboard.tiles, k=1, axes=(1, 0)) # axes=(1,0) ==> 90 deg clockwise; axes(0,1) ==> 90 deg counterclockwise\n",
    "        clear(chessboard)\n",
    "    fig, ax = plt.subplots()\n",
    "    ax.plot(numOfFigures, numOfPreciseDifferences, 'ro', label='Precise differences')\n",
    "    ax.plot(numOfFigures, numOfDifferences, 'bo', label='Differences')\n",
    "    ax.set_xlabel('Number of figures')\n",
    "    ax.set_ylabel('Number of differences')\n",
    "    plt.savefig('plotsAndGraphs/figures_check_Accuracy.png')"
   ]
  },
  {
   "cell_type": "code",
   "execution_count": null,
   "outputs": [],
   "source": [],
   "metadata": {
    "collapsed": false,
    "pycharm": {
     "name": "#%%\n"
    }
   }
  }
 ],
 "metadata": {
  "kernelspec": {
   "display_name": "Python 3",
   "language": "python",
   "name": "python3"
  },
  "language_info": {
   "codemirror_mode": {
    "name": "ipython",
    "version": 2
   },
   "file_extension": ".py",
   "mimetype": "text/x-python",
   "name": "python",
   "nbconvert_exporter": "python",
   "pygments_lexer": "ipython2",
   "version": "2.7.6"
  }
 },
 "nbformat": 4,
 "nbformat_minor": 0
}