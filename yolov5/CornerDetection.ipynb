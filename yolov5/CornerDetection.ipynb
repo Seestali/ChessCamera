{
 "cells": [
  {
   "cell_type": "markdown",
   "metadata": {
    "collapsed": false
   },
   "source": [
    "Wege um die Effizient der Schachbretterkennugn zu erhöhen:\n",
    "1. Extrapolation\n",
    "2. SChnittstelle einer horizontalen Linie und einer diagonalen"
   ]
  },
  {
   "cell_type": "code",
   "execution_count": null,
   "metadata": {
    "pycharm": {
     "name": "#%%\n"
    }
   },
   "outputs": [],
   "source": [
    "def edge_detect(file):\n",
    "    image = cv2.imread(file)\n",
    "    im_bw = cv2.cvtColor(image, cv2.COLOR_RGB2GRAY)\n",
    "\n",
    "    (found, img) = findChessCorners(im_bw, 7, 7)\n",
    "    if not found:\n",
    "        return None\n",
    "    return img"
   ]
  },
  {
   "cell_type": "code",
   "execution_count": null,
   "metadata": {
    "pycharm": {
     "name": "#%%\n"
    }
   },
   "outputs": [],
   "source": [
    "def findChessCorners(img,nx, ny):\n",
    "    #(found, corners) = cv2.findChessboardCorners(img, (nx, ny), cv2.CALIB_CB_ADAPTIVE_THRESH | cv2.CALIB_CB_FAST_CHECK | cv2.CALIB_CB_NORMALIZE_IMAGE)\n",
    "    (found, corners) = cv2.findChessboardCorners(img, (nx, ny), None)\n",
    "    if found:\n",
    "        # Draw and display the corners\n",
    "        cv2.drawChessboardCorners(img, (nx, ny), corners, found)\n",
    "        corners = reshapeMatrixDim(corners) # reshape from (49,1,2) to (7,7,2)\n",
    "        #take corners and extrapolate in each direction to make out outer corners\n",
    "        return True, img\n",
    "    else:\n",
    "        return False, img"
   ]
  },
  {
   "cell_type": "code",
   "execution_count": null,
   "metadata": {
    "pycharm": {
     "name": "#%%\n"
    }
   },
   "outputs": [],
   "source": [
    "def extrapolate(cvCorners):\n",
    "\n",
    "    return expCorners"
   ]
  },
  {
   "cell_type": "code",
   "execution_count": null,
   "metadata": {
    "pycharm": {
     "name": "#%%\n"
    }
   },
   "outputs": [],
   "source": [
    "def regression(img, corners):\n",
    "    from sklearn.linear_model import LinearRegression\n",
    "    print(corners)\n",
    "    #img = cv2.circle(img, (x,y), radius=0, color=(0, 0, 255), thickness=-1)\n",
    "    return img\n"
   ]
  },
  {
   "cell_type": "code",
   "execution_count": null,
   "metadata": {
    "pycharm": {
     "name": "#%%\n"
    }
   },
   "outputs": [],
   "source": [
    "def reshapeMatrixDim(corners):\n",
    "    corners = np.reshape(corners,(7,7,2))\n",
    "    return corners"
   ]
  },
  {
   "cell_type": "code",
   "execution_count": null,
   "metadata": {
    "pycharm": {
     "name": "#%%\n"
    }
   },
   "outputs": [],
   "source": [
    "import glob\n",
    "import cv2\n",
    "import numpy as np\n",
    "chess_images = glob.glob('../testFiles/emptyChessBoard/TestBild.jpg')\n",
    "# Select any index to grab an image from the list\n",
    "for x, img in enumerate(chess_images):\n",
    "    image = edge_detect(img)\n",
    "    result_name = 'result/ChessBoard'+str(x)+'.jpg'\n",
    "    if image is not None:\n",
    "        cv2.imwrite(result_name, image)"
   ]
  }
 ],
 "metadata": {
  "kernelspec": {
   "display_name": "Python 3",
   "language": "python",
   "name": "python3"
  },
  "language_info": {
   "codemirror_mode": {
    "name": "ipython",
    "version": 2
   },
   "file_extension": ".py",
   "mimetype": "text/x-python",
   "name": "python",
   "nbconvert_exporter": "python",
   "pygments_lexer": "ipython2",
   "version": "2.7.6"
  }
 },
 "nbformat": 4,
 "nbformat_minor": 0
}
