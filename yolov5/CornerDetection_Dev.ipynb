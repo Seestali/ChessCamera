{
 "cells": [
  {
   "cell_type": "markdown",
   "metadata": {
    "collapsed": false
   },
   "source": [
    "Wege um die Effizient der Schachbretterkennugn zu erhöhen:\n",
    "1. Extrapolation\n",
    "2. SChnittstelle einer horizontalen Linie und einer diagonalen"
   ]
  },
  {
   "cell_type": "code",
   "execution_count": null,
   "metadata": {
    "pycharm": {
     "name": "#%%\n"
    }
   },
   "outputs": [],
   "source": [
    "def reshapeMatrix(corners):\n",
    "    A = np.zeros((9, 9, 2), dtype=float)\n",
    "    B = corners\n",
    "    r,c = 1,1\n",
    "    A[r:r+B.shape[0], c:c+B.shape[1]] += B\n",
    "    corners = A\n",
    "    return corners"
   ]
  },
  {
   "cell_type": "code",
   "execution_count": null,
   "metadata": {
    "pycharm": {
     "name": "#%%\n"
    }
   },
   "outputs": [],
   "source": [
    "def line(p1, p2): # basis line transformation\n",
    "    A = (p1[1] - p2[1])\n",
    "    B = (p2[0] - p1[0])\n",
    "    C = (p1[0]*p2[1] - p2[0]*p1[1])\n",
    "    return A, B, -C\n",
    "\n",
    "def intersection(L1, L2): # calculate point of intersection, i can only be one and it has to be in range of picture\n",
    "    D  = L1[0] * L2[1] - L1[1] * L2[0]\n",
    "    Dx = L1[2] * L2[1] - L1[1] * L2[2]\n",
    "    Dy = L1[0] * L2[2] - L1[2] * L2[0]\n",
    "    if D != 0:\n",
    "        x = Dx / D\n",
    "        y = Dy / D\n",
    "        return x,y # x and y coordinates of intersection\n",
    "    else:\n",
    "        return False"
   ]
  },
  {
   "cell_type": "code",
   "execution_count": null,
   "metadata": {
    "pycharm": {
     "name": "#%%\n"
    }
   },
   "outputs": [],
   "source": [
    "def drawLine(image, line): #debug method to show horizontal and diagonal lines\n",
    "\n",
    "    color = [0,0,255] # color hoz lines red\n",
    "    cv2.line(image, (image.shape[1]-1,line[1]),(0,line[0]), color=color, thickness=1)\n",
    "    return image"
   ]
  },
  {
   "cell_type": "code",
   "execution_count": null,
   "metadata": {
    "pycharm": {
     "name": "#%%\n"
    }
   },
   "outputs": [],
   "source": [
    "def getLine(array):\n",
    "    [vx, vy, x, y] = cv2.fitLine(np.array(array),cv2.DIST_L2, 0, 0.01, 0.01)\n",
    "    lefty = int((-x*vy/vx) + y)\n",
    "    righty = int(((image.shape[1]-x)*vy/vx)+y)\n",
    "    return lefty, righty"
   ]
  },
  {
   "cell_type": "code",
   "execution_count": null,
   "metadata": {
    "pycharm": {
     "name": "#%%\n"
    }
   },
   "outputs": [],
   "source": [
    "def getDiagonal(corners, first, second): # diagonal always calcualted from top to bottom points\n",
    "    diagonal = []\n",
    "    if first[0] < second[0] and first[1] > second[1]: #diagonal right to left\n",
    "        column = first[1]\n",
    "        for x in range(first[0], second[0]+1):\n",
    "            diagonal.append(corners[x][column])\n",
    "            column = column - 1\n",
    "\n",
    "    elif first[0] < second[0] and first[1] < second[1]: #diagonal left to right\n",
    "        column = first[1]\n",
    "        for x in range(first[0], second[0]+1):\n",
    "            diagonal.append(corners[x][column])\n",
    "            column = column + 1\n",
    "    return diagonal"
   ]
  },
  {
   "cell_type": "code",
   "execution_count": null,
   "metadata": {
    "pycharm": {
     "name": "#%%\n"
    }
   },
   "outputs": [],
   "source": [
    "def getHorizontal(corners, row, begin=0, end = 6): #inner horizontal points\n",
    "    horizontalPoints = []\n",
    "    for x in range(begin, end):\n",
    "        horizontalPoints.append(corners[row][x])\n",
    "    return horizontalPoints\n"
   ]
  },
  {
   "cell_type": "code",
   "execution_count": null,
   "metadata": {
    "pycharm": {
     "name": "#%%\n"
    }
   },
   "outputs": [],
   "source": [
    "def getVertical(corners, column, begin=1, end=7):\n",
    "    verticalPoints = []\n",
    "    for x in range(begin, end):\n",
    "        verticalPoints.append(corners[x][column])\n",
    "    return verticalPoints"
   ]
  },
  {
   "cell_type": "code",
   "execution_count": null,
   "metadata": {
    "pycharm": {
     "name": "#%%\n"
    }
   },
   "outputs": [],
   "source": [
    "def getIntersection(horizontal, diagonal):\n",
    "    L1 = line((image.shape[1]-1,horizontal[1]),(0,horizontal[0]))\n",
    "    L2 = line((image.shape[1]-1,diagonal[1]),(0,diagonal[0]))\n",
    "    R = intersection(L1, L2)\n",
    "    return R"
   ]
  },
  {
   "cell_type": "code",
   "execution_count": null,
   "metadata": {
    "pycharm": {
     "name": "#%%\n"
    }
   },
   "outputs": [],
   "source": [
    "def getHorizontalOuterPoint(corners, image,  row, lineBegin, lineEnd):\n",
    "    horizontal = getLine(getHorizontal(corners,row))\n",
    "    diagonal = getLine(getDiagonal(corners,lineBegin,lineEnd))\n",
    "    P = getIntersection(horizontal, diagonal)\n",
    "    image = drawPoint(image, P)\n",
    "    return image, P"
   ]
  },
  {
   "cell_type": "code",
   "execution_count": null,
   "metadata": {
    "pycharm": {
     "name": "#%%\n"
    }
   },
   "outputs": [],
   "source": [
    "def getVerticalOuterPoint(corners, image,  column, lineBegin, lineEnd):\n",
    "    vertical = getLine(getVertical(corners,column))\n",
    "    diagonal = getLine(getDiagonal(corners,lineBegin,lineEnd))\n",
    "    P = getIntersection(vertical, diagonal)\n",
    "    image = drawPoint(image, P)\n",
    "    return image, P"
   ]
  },
  {
   "cell_type": "code",
   "execution_count": null,
   "metadata": {
    "pycharm": {
     "name": "#%%\n"
    }
   },
   "outputs": [],
   "source": [
    "def drawPoint(image, P):\n",
    "    P = cv2.circle(image, (int(P[0]),int(P[1])) , radius=2, color=(0, 255, 0), thickness=-1)\n",
    "    return image"
   ]
  },
  {
   "cell_type": "code",
   "execution_count": null,
   "metadata": {
    "pycharm": {
     "name": "#%%\n"
    }
   },
   "outputs": [],
   "source": [
    "def getOuterPoints(corners, image):\n",
    "    chessMatrix = reshapeMatrix(corners)\n",
    "    # diagonal is read from top to bottom\n",
    "    #######\n",
    "    # Left side\n",
    "    #######\n",
    "    for x in range(0,7):\n",
    "        if x < 4:\n",
    "            image, chessMatrix[x+1][0] = getHorizontalOuterPoint(corners,image,x,(x+1,0),(6,5 - x))\n",
    "        else:\n",
    "            image, chessMatrix[x+1][0] = getHorizontalOuterPoint(corners,image,x,(0,x-1),(x-1,0))\n",
    "\n",
    "    #######\n",
    "    # Right side\n",
    "    #######\n",
    "    for x in range(0,7):\n",
    "        if x < 4:\n",
    "            image, chessMatrix[x+1][8] = getHorizontalOuterPoint(corners,image,x,(x+1,6),(6,5 - x))\n",
    "        else:\n",
    "            image, chessMatrix[x+1][8] = getHorizontalOuterPoint(corners,image,x,(0,7-x),(x-1,6))\n",
    "\n",
    "    #######\n",
    "    # Top\n",
    "    #######\n",
    "    for x in range(0,7):\n",
    "        if x < 4:\n",
    "            image, chessMatrix[0][x+1] = getVerticalOuterPoint(corners,image,x,(0,x+1),(5-x,6))\n",
    "        else:\n",
    "            image, chessMatrix[0][x+1] = getVerticalOuterPoint(corners,image,x,(0,x-1),(x-1,0))\n",
    "\n",
    "    #######\n",
    "    # Bottom\n",
    "    #######\n",
    "    for x in range(0,7):\n",
    "        if x < 4:\n",
    "            image, chessMatrix[8][x+1] = getVerticalOuterPoint(corners,image,x,(x+1,6),(6,x+1))\n",
    "        else:\n",
    "            image, chessMatrix[8][x+1] = getVerticalOuterPoint(corners,image,x,(7-x,0),(6,x-1))\n",
    "\n",
    "    #print(chessMatrix)\n",
    "\n",
    "    #######\n",
    "    # Corner Points\n",
    "    #######\n",
    "    top = getLine(getHorizontal(chessMatrix,0,1,7))\n",
    "    left = getLine(getVertical(chessMatrix,0,1,7))\n",
    "    right = getLine(getVertical(chessMatrix,8,1,7))\n",
    "    bottom = getLine(getHorizontal(chessMatrix,8,1,7))\n",
    "\n",
    "    P = getIntersection(top, left)\n",
    "    image = drawPoint(image, P)\n",
    "    chessMatrix[0][0] = P\n",
    "    P = getIntersection(top, right)\n",
    "    image = drawPoint(image, P)\n",
    "    chessMatrix[0][8] = P\n",
    "    P = getIntersection(bottom, right)\n",
    "    image = drawPoint(image, P)\n",
    "    chessMatrix[8][8] = P\n",
    "    P = getIntersection(bottom, left)\n",
    "    image = drawPoint(image, P)\n",
    "    chessMatrix[8][0] = P\n",
    "\n",
    "    return image # later return matrix with new points"
   ]
  },
  {
   "cell_type": "code",
   "execution_count": null,
   "metadata": {
    "pycharm": {
     "name": "#%%\n"
    }
   },
   "outputs": [],
   "source": [
    "import glob\n",
    "import cv2\n",
    "import numpy as np\n",
    "from scipy.optimize import curve_fit\n",
    "chess_images = glob.glob('../testFiles/emptyChessBoard/*.jpg')\n",
    "# Select any index to grab an image from the list\n",
    "for i, img in enumerate(chess_images):\n",
    "    image = cv2.imread(img)\n",
    "    im_bw = cv2.cvtColor(image, cv2.COLOR_RGB2GRAY)\n",
    "    (found, corners) = cv2.findChessboardCorners(im_bw, (7, 7), None)\n",
    "    if found:\n",
    "        # Draw and display the corners\n",
    "        cv2.drawChessboardCorners(image, (7, 7), corners, found)\n",
    "        # Reshape matrix\n",
    "        corners = np.reshape(corners,(7,7,2))\n",
    "\n",
    "        image = getOuterPoints(corners, image)\n",
    "    result_name = 'result/ChessBoard'+str(i)+'.jpg'\n",
    "    cv2.imwrite(result_name, image)"
   ]
  }
 ],
 "metadata": {
  "kernelspec": {
   "display_name": "Python 3",
   "language": "python",
   "name": "python3"
  },
  "language_info": {
   "codemirror_mode": {
    "name": "ipython",
    "version": 2
   },
   "file_extension": ".py",
   "mimetype": "text/x-python",
   "name": "python",
   "nbconvert_exporter": "python",
   "pygments_lexer": "ipython2",
   "version": "2.7.6"
  }
 },
 "nbformat": 4,
 "nbformat_minor": 0
}
