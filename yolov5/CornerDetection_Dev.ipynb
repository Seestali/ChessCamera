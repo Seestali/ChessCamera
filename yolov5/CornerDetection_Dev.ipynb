{
 "cells": [
  {
   "cell_type": "markdown",
   "metadata": {
    "collapsed": false
   },
   "source": [
    "Wege um die Effizient der Schachbretterkennugn zu erhöhen:\n",
    "1. Extrapolation\n",
    "2. SChnittstelle einer horizontalen Linie und einer diagonalen"
   ]
  },
  {
   "cell_type": "code",
   "execution_count": 5,
   "metadata": {
    "pycharm": {
     "name": "#%%\n"
    }
   },
   "outputs": [],
   "source": [
    "def reshapeMatrix(corners):\n",
    "    A = np.zeros((9, 9, 2), dtype=tuple)\n",
    "    B = corners\n",
    "    r,c = 1,1\n",
    "    A[r:r+B.shape[0], c:c+B.shape[1]] += B\n",
    "    corners = A\n",
    "    return corners"
   ]
  },
  {
   "cell_type": "code",
   "execution_count": 6,
   "metadata": {
    "pycharm": {
     "name": "#%%\n"
    }
   },
   "outputs": [],
   "source": [
    "def line(p1, p2): # basis line transformation\n",
    "    A = (p1[1] - p2[1])\n",
    "    B = (p2[0] - p1[0])\n",
    "    C = (p1[0]*p2[1] - p2[0]*p1[1])\n",
    "    return A, B, -C\n",
    "\n",
    "def intersection(L1, L2): # calculate point of intersection, i can only be one and it has to be in range of picture\n",
    "    D  = L1[0] * L2[1] - L1[1] * L2[0]\n",
    "    Dx = L1[2] * L2[1] - L1[1] * L2[2]\n",
    "    Dy = L1[0] * L2[2] - L1[2] * L2[0]\n",
    "    if D != 0:\n",
    "        x = Dx / D\n",
    "        y = Dy / D\n",
    "        return x,y # x and y coordinates of intersection\n",
    "    else:\n",
    "        return False"
   ]
  },
  {
   "cell_type": "code",
   "execution_count": 7,
   "metadata": {
    "pycharm": {
     "name": "#%%\n"
    }
   },
   "outputs": [],
   "source": [
    "def drawLine(image, line): #debug method to show horizontal and diagonal lines\n",
    "\n",
    "    color = [0,0,255] # color hoz lines red\n",
    "    cv2.line(image, (image.shape[1]-1,line[1]),(0,line[0]), color=color, thickness=1)\n",
    "    return image"
   ]
  },
  {
   "cell_type": "code",
   "execution_count": null,
   "metadata": {
    "pycharm": {
     "name": "#%%\n"
    }
   },
   "outputs": [],
   "source": [
    "def getLine(array):\n",
    "    [vx, vy, x, y] = cv2.fitLine(np.array(array),cv2.DIST_L2, 0, 0.01, 0.01)\n",
    "    lefty = int((-x*vy/vx) + y)\n",
    "    righty = int(((image.shape[1]-x)*vy/vx)+y)\n",
    "    return lefty, righty"
   ]
  },
  {
   "cell_type": "code",
   "execution_count": 8,
   "metadata": {
    "pycharm": {
     "name": "#%%\n"
    }
   },
   "outputs": [],
   "source": [
    "def getDiagonal(corners, first, second): # diagonal always calcualted from top to bottom points\n",
    "    diagonal = []\n",
    "    if first[0] < second[0] and first[1] > second[1]: #diagonal right to left\n",
    "        column = first[1]\n",
    "        for x in range(first[0], second[0]+1):\n",
    "            diagonal.append(corners[x][column])\n",
    "            column = column - 1\n",
    "\n",
    "    elif first[0] < second[0] and first[1] < second[1]: #diagonal left to right\n",
    "        column = first[1]\n",
    "        for x in range(first[0], second[0]+1):\n",
    "            diagonal.append(corners[x][column])\n",
    "            column = column + 1\n",
    "    return diagonal"
   ]
  },
  {
   "cell_type": "code",
   "execution_count": null,
   "metadata": {
    "pycharm": {
     "name": "#%%\n"
    }
   },
   "outputs": [],
   "source": [
    "def getHorizontal(corners, row): #inner horizontal points\n",
    "    return corners[row]\n"
   ]
  },
  {
   "cell_type": "code",
   "execution_count": null,
   "metadata": {
    "pycharm": {
     "name": "#%%\n"
    }
   },
   "outputs": [],
   "source": [
    "def getIntersection(horizontal, diagonal):\n",
    "    L1 = line((image.shape[1]-1,horizontal[1]),(0,horizontal[0]))\n",
    "    L2 = line((image.shape[1]-1,diagonal[1]),(0,diagonal[0]))\n",
    "    R = intersection(L1, L2)\n",
    "    return R"
   ]
  },
  {
   "cell_type": "code",
   "execution_count": null,
   "metadata": {
    "pycharm": {
     "name": "#%%\n"
    }
   },
   "outputs": [],
   "source": [
    "def getOuterPoint(corners, image,  row, lineBegin, lineEnd):\n",
    "    horizontal = getLine(getHorizontal(corners,row))\n",
    "    diagonal = getLine(getDiagonal(corners,lineBegin,lineEnd))\n",
    "    P = getIntersection(horizontal, diagonal)\n",
    "    image = cv2.circle(image, (int(P[0]),int(P[1])) , radius=2, color=(0, 255, 0), thickness=-1)\n",
    "    return image, P"
   ]
  },
  {
   "cell_type": "code",
   "execution_count": null,
   "metadata": {
    "pycharm": {
     "name": "#%%\n"
    }
   },
   "outputs": [],
   "source": [
    "def getOuterPoints(corners, image):\n",
    "    chessMatrix = reshapeMatrix(corners)\n",
    "    image, chessMatrix[1][0] = getOuterPoint(corners,image,0,(1,6),(6,1)) #top left\n",
    "    image, chessMatrix[1][8] = getOuterPoint(corners,image,0,(1,0),(6,5)) #top right\n",
    "    image, chessMatrix[7][8] = getOuterPoint(corners,image,6,(0,1),(5,6)) #bottom right\n",
    "    image, chessMatrix[7][0] = getOuterPoint(corners,image,6,(0,5),(5,0)) #bottom left\n",
    "    print(chessMatrix)\n",
    "    #TODO: reshape matrix\n",
    "    return image # later return matrix with new points"
   ]
  },
  {
   "cell_type": "code",
   "execution_count": null,
   "metadata": {
    "pycharm": {
     "name": "#%%\n"
    }
   },
   "outputs": [],
   "source": [
    "import glob\n",
    "import cv2\n",
    "import numpy as np\n",
    "from scipy.optimize import curve_fit\n",
    "chess_images = glob.glob('../testFiles/emptyChessBoard/TestImage.jpg')\n",
    "# Select any index to grab an image from the list\n",
    "for i, img in enumerate(chess_images):\n",
    "    image = cv2.imread(img)\n",
    "    im_bw = cv2.cvtColor(image, cv2.COLOR_RGB2GRAY)\n",
    "    (found, corners) = cv2.findChessboardCorners(im_bw, (7, 7), None)\n",
    "    if found:\n",
    "        # Draw and display the corners\n",
    "        cv2.drawChessboardCorners(image, (7, 7), corners, found)\n",
    "        # Reshape matrix\n",
    "        corners = np.reshape(corners,(7,7,2))\n",
    "\n",
    "        image = getOuterPoints(corners, image)\n",
    "    result_name = 'result/ChessBoard'+str(i)+'.jpg'\n",
    "    cv2.imwrite(result_name, image)"
   ]
  }
 ],
 "metadata": {
  "kernelspec": {
   "display_name": "Python 3",
   "language": "python",
   "name": "python3"
  },
  "language_info": {
   "codemirror_mode": {
    "name": "ipython",
    "version": 2
   },
   "file_extension": ".py",
   "mimetype": "text/x-python",
   "name": "python",
   "nbconvert_exporter": "python",
   "pygments_lexer": "ipython2",
   "version": "2.7.6"
  }
 },
 "nbformat": 4,
 "nbformat_minor": 0
}