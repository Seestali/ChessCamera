{
 "cells": [
  {
   "cell_type": "markdown",
   "metadata": {
    "collapsed": false
   },
   "source": [
    "Wege um die Effizient der Schachbretterkennugn zu erhöhen:\n",
    "1. Extrapolation\n",
    "2. SChnittstelle einer horizontalen Linie und einer diagonalen"
   ]
  },
  {
   "cell_type": "code",
   "execution_count": 5,
   "metadata": {
    "pycharm": {
     "name": "#%%\n"
    }
   },
   "outputs": [],
   "source": [
    "def exponential_fit(x, a, b, c):\n",
    "    return a*np.exp(-b*x) + c"
   ]
  },
  {
   "cell_type": "code",
   "execution_count": 6,
   "metadata": {
    "pycharm": {
     "name": "#%%\n"
    }
   },
   "outputs": [],
   "source": [
    "def line(p1, p2): # basis line transformation\n",
    "    A = (p1[1] - p2[1])\n",
    "    B = (p2[0] - p1[0])\n",
    "    C = (p1[0]*p2[1] - p2[0]*p1[1])\n",
    "    return A, B, -C\n",
    "\n",
    "def intersection(L1, L2): # calculate point of intersection, i can only be one and it has to be in range of picture\n",
    "    D  = L1[0] * L2[1] - L1[1] * L2[0]\n",
    "    Dx = L1[2] * L2[1] - L1[1] * L2[2]\n",
    "    Dy = L1[0] * L2[2] - L1[2] * L2[0]\n",
    "    if D != 0:\n",
    "        x = Dx / D\n",
    "        y = Dy / D\n",
    "        return x,y # x and y coordinates of intersection\n",
    "    else:\n",
    "        return False"
   ]
  },
  {
   "cell_type": "code",
   "execution_count": 7,
   "metadata": {
    "pycharm": {
     "name": "#%%\n"
    }
   },
   "outputs": [],
   "source": [
    "def getLine(array):\n",
    "    [vx, vy, x, y] = cv2.fitLine(np.array(array),cv2.DIST_L2, 0, 0.01, 0.01)\n",
    "    lefty = int((-x*vy/vx) + y)\n",
    "    righty = int(((image.shape[1]-x)*vy/vx)+y)\n",
    "    return lefty, righty"
   ]
  },
  {
   "cell_type": "code",
   "execution_count": 8,
   "metadata": {
    "pycharm": {
     "name": "#%%\n"
    }
   },
   "outputs": [],
   "source": [
    "import glob\n",
    "import cv2\n",
    "import numpy as np\n",
    "from scipy.optimize import curve_fit\n",
    "chess_images = glob.glob('../testFiles/emptyChessBoard/*.jpg')\n",
    "# Select any index to grab an image from the list\n",
    "for i, img in enumerate(chess_images):\n",
    "    image = cv2.imread(img)\n",
    "    im_bw = cv2.cvtColor(image, cv2.COLOR_RGB2GRAY)\n",
    "    (found, corners) = cv2.findChessboardCorners(im_bw, (7, 7), None)\n",
    "    if found:\n",
    "        # Draw and display the corners\n",
    "        cv2.drawChessboardCorners(image, (7, 7), corners, found)\n",
    "        # Reshape matrix\n",
    "        corners = np.reshape(corners,(7,7,2))\n",
    "\n",
    "        # separate tuple into x and y\n",
    "        #for corner in corners[0]:\n",
    "        #    image = cv2.circle(image, (corner[0].astype(int),corner[1].astype(int)), radius=2, color=(0, 255, 0), thickness=-1)\n",
    "        #    x.append(corner[0])\n",
    "        #    y.append(corner[1])\n",
    "        # Do the extrapolation through fitline\n",
    "        diagonal = [corners[1][6],corners[2][5],corners[3][4],corners[4][3],corners[5][2],corners[6][1]]\n",
    "        x1, y1 = getLine(corners[0])\n",
    "        x2, y2 = getLine(diagonal)\n",
    "        color = [0,0,255] # color hoz lines red\n",
    "\n",
    "        cv2.line(image, (image.shape[1]-1,y1),(0,x1), color=color, thickness=1)\n",
    "        cv2.line(image, (image.shape[1]-1,y2),(0,x2), color=color, thickness=1)\n",
    "\n",
    "        L1 = line((image.shape[1]-1,y1),(0,x1))\n",
    "        L2 = line((image.shape[1]-1,y2),(0,x2))\n",
    "\n",
    "        R = intersection(L1, L2)\n",
    "\n",
    "        image = cv2.circle(image, (int(R[0]),int(R[1])) , radius=2, color=(0, 255, 0), thickness=-1)\n",
    "\n",
    "    result_name = 'result/ChessBoard'+str(i)+'.jpg'\n",
    "    cv2.imwrite(result_name, image)"
   ]
  }
 ],
 "metadata": {
  "kernelspec": {
   "display_name": "Python 3",
   "language": "python",
   "name": "python3"
  },
  "language_info": {
   "codemirror_mode": {
    "name": "ipython",
    "version": 2
   },
   "file_extension": ".py",
   "mimetype": "text/x-python",
   "name": "python",
   "nbconvert_exporter": "python",
   "pygments_lexer": "ipython2",
   "version": "2.7.6"
  }
 },
 "nbformat": 4,
 "nbformat_minor": 0
}