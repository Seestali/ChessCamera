{
 "cells": [
  {
   "cell_type": "markdown",
   "metadata": {
    "collapsed": false
   },
   "source": [
    "Wege um die Effizient der Schachbretterkennugn zu erhöhen:\n",
    "1. Extrapolation\n",
    "2. SChnittstelle einer horizontalen Linie und einer diagonalen"
   ]
  },
  {
   "cell_type": "code",
   "execution_count": null,
   "metadata": {
    "pycharm": {
     "name": "#%%\n"
    }
   },
   "outputs": [],
   "source": [
    "import glob\n",
    "import cv2\n",
    "import numpy as np\n",
    "from chessLocalisation import *\n",
    "\n",
    "chess_images = glob.glob('../testFiles/emptyChessBoard/*.jpg')\n",
    "# Select any index to grab an image from the list\n",
    "for i, img in enumerate(chess_images):\n",
    "    matrix = np.zeros((9, 9, 2), dtype=float)\n",
    "    image = cv2.imread(img)\n",
    "    im_bw = cv2.cvtColor(image, cv2.COLOR_RGB2GRAY)\n",
    "    (found, corners) = cv2.findChessboardCorners(im_bw, (7, 7), None)\n",
    "    if found:\n",
    "        cv2.drawChessboardCorners(image, (7, 7), corners, found)\n",
    "\n",
    "        corners = np.reshape(corners,(7,7,2))\n",
    "        print(getAllOuterPoints(corners, image))\n",
    "\n"
   ]
  }
 ],
 "metadata": {
  "kernelspec": {
   "display_name": "Python 3",
   "language": "python",
   "name": "python3"
  },
  "language_info": {
   "codemirror_mode": {
    "name": "ipython",
    "version": 2
   },
   "file_extension": ".py",
   "mimetype": "text/x-python",
   "name": "python",
   "nbconvert_exporter": "python",
   "pygments_lexer": "ipython2",
   "version": "2.7.6"
  }
 },
 "nbformat": 4,
 "nbformat_minor": 0
}
