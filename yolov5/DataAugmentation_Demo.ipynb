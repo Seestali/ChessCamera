{
 "cells": [
  {
   "cell_type": "code",
   "execution_count": null,
   "metadata": {
    "pycharm": {
     "name": "#%%\n"
    }
   },
   "outputs": [],
   "source": [
    "import cv2"
   ]
  },
  {
   "cell_type": "code",
   "execution_count": null,
   "metadata": {},
   "outputs": [],
   "source": [
    "# read image from directory\n",
    "img = cv2.imread('datasets/Augmentation_Demo/Original.jpg')"
   ]
  },
  {
   "cell_type": "code",
   "execution_count": null,
   "metadata": {
    "pycharm": {
     "name": "#%%\n"
    }
   },
   "outputs": [],
   "source": [
    "# change hue to + 20 percent\n",
    "# save image\n",
    "img_hue = cv2.cvtColor(img, cv2.COLOR_RGB2HSV)\n",
    "img_hue[:,:,0] = img_hue[:,:,0] -9\n",
    "\n",
    "img_hue = cv2.cvtColor(img_hue, cv2.COLOR_HSV2RGB)\n",
    "cv2.imwrite('datasets/Augmentation_Demo/Hue-9.jpg', img_hue)\n",
    "\n",
    "\n"
   ]
  },
  {
   "cell_type": "code",
   "execution_count": null,
   "metadata": {
    "pycharm": {
     "name": "#%%\n"
    }
   },
   "outputs": [],
   "source": [
    "import FindIntersections as fi\n",
    "import cv2\n",
    "img = cv2.imread('../datasets/emptyChessboard/TestImage.jpg')\n",
    "res = fi.harrisCornerDetection(img)\n",
    "res2 = fi.findIntersections(img)\n",
    "res3 = fi.drawHoughLinesP(img)\n",
    "cv2.imwrite('result/harrisCornersDetection.jpg', res)\n",
    "cv2.imwrite('result/findIntersecitons.jpg', res2)\n",
    "cv2.imwrite('result/drawHoughLinesP.jpg', res3)"
   ]
  },
  {
   "cell_type": "code",
   "execution_count": null,
   "metadata": {
    "pycharm": {
     "name": "#%%\n"
    }
   },
   "outputs": [],
   "source": []
  }
 ],
 "metadata": {
  "kernelspec": {
   "display_name": "Python 3",
   "language": "python",
   "name": "python3"
  },
  "language_info": {
   "codemirror_mode": {
    "name": "ipython",
    "version": 2
   },
   "file_extension": ".py",
   "mimetype": "text/x-python",
   "name": "python",
   "nbconvert_exporter": "python",
   "pygments_lexer": "ipython2",
   "version": "2.7.6"
  }
 },
 "nbformat": 4,
 "nbformat_minor": 0
}
