{
 "cells": [
  {
   "cell_type": "markdown",
   "metadata": {
    "collapsed": false
   },
   "source": [
    "Wege um die Effizient der Schachbretterkennugn zu erhöhen:\n",
    "1."
   ]
  },
  {
   "cell_type": "code",
   "execution_count": null,
   "metadata": {
    "pycharm": {
     "name": "#%%\n"
    }
   },
   "outputs": [],
   "source": [
    "def edge_detect(file):\n",
    "    image = cv2.imread(file)\n",
    "    im_bw = cv2.cvtColor(image, cv2.COLOR_RGB2GRAY)\n",
    "\n",
    "    (found, img) = findChessCorners(im_bw, 7, 7)\n",
    "    if not found:\n",
    "        return None\n",
    "    return img"
   ]
  },
  {
   "cell_type": "code",
   "execution_count": null,
   "metadata": {
    "pycharm": {
     "name": "#%%\n"
    }
   },
   "outputs": [],
   "source": [
    "def findChessCorners(img,nx, ny):\n",
    "    #(found, corners) = cv2.findChessboardCorners(img, (nx, ny), cv2.CALIB_CB_ADAPTIVE_THRESH | cv2.CALIB_CB_FAST_CHECK | cv2.CALIB_CB_NORMALIZE_IMAGE)\n",
    "    (found, corners) = cv2.findChessboardCorners(img, (nx, ny), None)\n",
    "    if found:\n",
    "        # Draw and display the corners\n",
    "        cv2.drawChessboardCorners(img, (nx, ny), corners, found)\n",
    "\n",
    "        #take corners and extrapolate in each direction to make out outer corners\n",
    "        return True, img\n",
    "    else:\n",
    "        return False, img"
   ]
  },
  {
   "cell_type": "code",
   "execution_count": null,
   "metadata": {
    "pycharm": {
     "name": "#%%\n"
    }
   },
   "outputs": [],
   "source": [
    "def extrapolate(cvCorners):\n",
    "\n",
    "    return expCorners"
   ]
  },
  {
   "cell_type": "code",
   "execution_count": null,
   "metadata": {
    "pycharm": {
     "name": "#%%\n"
    }
   },
   "outputs": [],
   "source": [
    "import glob\n",
    "import cv2\n",
    "import numpy as np\n",
    "chess_images = glob.glob('../testFiles/emptyChessBoard/*.jpg')\n",
    "# Select any index to grab an image from the list\n",
    "for x, img in enumerate(chess_images):\n",
    "    image = edge_detect(img)\n",
    "    result_name = 'result/ChessBoard'+str(x)+'.jpg'\n",
    "    if image is not None:\n",
    "        cv2.imwrite(result_name, image)"
   ]
  },
  {
   "cell_type": "markdown",
   "metadata": {
    "collapsed": false
   },
   "source": []
  },
  {
   "cell_type": "code",
   "execution_count": null,
   "metadata": {
    "pycharm": {
     "name": "#%%\n"
    }
   },
   "outputs": [],
   "source": [
    "import numpy as np\n",
    "import cv2\n",
    "import glob\n",
    "import yaml\n",
    "#import pathlib\n",
    "\n",
    "# termination criteria\n",
    "criteria = (cv2.TERM_CRITERIA_EPS + cv2.TERM_CRITERIA_MAX_ITER, 30, 0.001)\n",
    "# prepare object points, like (0,0,0), (1,0,0), (2,0,0) ....,(6,5,0)\n",
    "objp = np.zeros((7*7,3), np.float32)\n",
    "objp[:,:2] = np.mgrid[0:7,0:7].T.reshape(-1,2)\n",
    "# Arrays to store object points and image points from all the images.\n",
    "objpoints = [] # 3d point in real world space\n",
    "imgpoints = [] # 2d points in image plane.\n",
    "\n",
    "images = glob.glob('../datasets/Chess-Pieces_big/test/images/*.jpg')\n",
    "\n",
    "# path = 'results'\n",
    "# pathlib.Path(path).mkdir(parents=True, exist_ok=True)\n",
    "\n",
    "found = 0\n",
    "for fname in images:  # Here, 10 can be changed to whatever number you like to choose\n",
    "    img = cv2.imread(fname) # Capture frame-by-frame\n",
    "    #print(images[im_i])\n",
    "    gray = cv2.cvtColor(img, cv2.COLOR_BGR2GRAY)\n",
    "    # Find the chess board corners\n",
    "    ret, corners = cv2.findChessboardCorners(gray, (7,7), None)\n",
    "    # If found, add object points, image points (after refining them)\n",
    "    if ret == True:\n",
    "        objpoints.append(objp)   # Certainly, every loop objp is the same, in 3D.\n",
    "        corners2 = cv2.cornerSubPix(gray,corners,(11,11),(-1,-1),criteria)\n",
    "        imgpoints.append(corners2)\n",
    "        # Draw and display the corners\n",
    "        img = cv2.drawChessboardCorners(img, (7,7), corners2, ret)\n",
    "        found += 1\n",
    "        cv2.imshow('img', img)\n",
    "        cv2.waitKey(500)\n",
    "        # if you want to save images with detected corners\n",
    "        # uncomment following 2 lines and lines 5, 18 and 19\n",
    "        # image_name = path + '/calibresult' + str(found) + '.png'\n",
    "        # cv2.imwrite(image_name, img)\n",
    "\n",
    "print(\"Number of images used for calibration: \", found)\n",
    "\n",
    "# When everything done, release the capture\n",
    "# cap.release()\n",
    "cv2.destroyAllWindows()\n",
    "\n",
    "# calibration\n",
    "ret, mtx, dist, rvecs, tvecs = cv2.calibrateCamera(objpoints, imgpoints, gray.shape[::-1], None, None)\n",
    "\n",
    "# transform the matrix and distortion coefficients to writable lists\n",
    "data = {'camera_matrix': np.asarray(mtx).tolist(),\n",
    "        'dist_coeff': np.asarray(dist).tolist()}\n",
    "\n",
    "# and save it to a file\n",
    "with open(\"calibration_matrix.yaml\", \"w\") as f:\n",
    "    yaml.dump(data, f)\n",
    "\n",
    "# done"
   ]
  }
 ],
 "metadata": {
  "kernelspec": {
   "display_name": "Python 3",
   "language": "python",
   "name": "python3"
  },
  "language_info": {
   "codemirror_mode": {
    "name": "ipython",
    "version": 2
   },
   "file_extension": ".py",
   "mimetype": "text/x-python",
   "name": "python",
   "nbconvert_exporter": "python",
   "pygments_lexer": "ipython2",
   "version": "2.7.6"
  }
 },
 "nbformat": 4,
 "nbformat_minor": 0
}
